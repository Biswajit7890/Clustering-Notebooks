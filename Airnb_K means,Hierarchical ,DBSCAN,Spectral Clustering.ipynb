{
 "cells": [
  {
   "cell_type": "code",
   "execution_count": 1,
   "metadata": {},
   "outputs": [],
   "source": [
    "import pandas as pd\n",
    "import numpy as np\n",
    "import matplotlib.pyplot as plt\n",
    "import warnings\n",
    "warnings.filterwarnings('ignore')"
   ]
  },
  {
   "cell_type": "code",
   "execution_count": 2,
   "metadata": {},
   "outputs": [],
   "source": [
    "Ab_NYC_ML= pd.read_csv('C:/Users/user/Desktop/IVY WORK BOOK/PYTHON/Python Datasets/AB_NYC_2019.csv')"
   ]
  },
  {
   "cell_type": "code",
   "execution_count": 3,
   "metadata": {},
   "outputs": [
    {
     "data": {
      "text/html": [
       "<div>\n",
       "<style scoped>\n",
       "    .dataframe tbody tr th:only-of-type {\n",
       "        vertical-align: middle;\n",
       "    }\n",
       "\n",
       "    .dataframe tbody tr th {\n",
       "        vertical-align: top;\n",
       "    }\n",
       "\n",
       "    .dataframe thead th {\n",
       "        text-align: right;\n",
       "    }\n",
       "</style>\n",
       "<table border=\"1\" class=\"dataframe\">\n",
       "  <thead>\n",
       "    <tr style=\"text-align: right;\">\n",
       "      <th></th>\n",
       "      <th>id</th>\n",
       "      <th>name</th>\n",
       "      <th>host_id</th>\n",
       "      <th>host_name</th>\n",
       "      <th>neighbourhood_group</th>\n",
       "      <th>neighbourhood</th>\n",
       "      <th>latitude</th>\n",
       "      <th>longitude</th>\n",
       "      <th>room_type</th>\n",
       "      <th>price</th>\n",
       "      <th>minimum_nights</th>\n",
       "      <th>number_of_reviews</th>\n",
       "      <th>last_review</th>\n",
       "      <th>reviews_per_month</th>\n",
       "      <th>calculated_host_listings_count</th>\n",
       "      <th>availability_365</th>\n",
       "    </tr>\n",
       "  </thead>\n",
       "  <tbody>\n",
       "    <tr>\n",
       "      <td>0</td>\n",
       "      <td>2539</td>\n",
       "      <td>Clean &amp; quiet apt home by the park</td>\n",
       "      <td>2787</td>\n",
       "      <td>John</td>\n",
       "      <td>Brooklyn</td>\n",
       "      <td>Kensington</td>\n",
       "      <td>40.64749</td>\n",
       "      <td>-73.97237</td>\n",
       "      <td>Private room</td>\n",
       "      <td>149</td>\n",
       "      <td>1</td>\n",
       "      <td>9</td>\n",
       "      <td>10/19/2018</td>\n",
       "      <td>0.21</td>\n",
       "      <td>6</td>\n",
       "      <td>365</td>\n",
       "    </tr>\n",
       "    <tr>\n",
       "      <td>1</td>\n",
       "      <td>2595</td>\n",
       "      <td>Skylit Midtown Castle</td>\n",
       "      <td>2845</td>\n",
       "      <td>Jennifer</td>\n",
       "      <td>Manhattan</td>\n",
       "      <td>Midtown</td>\n",
       "      <td>40.75362</td>\n",
       "      <td>-73.98377</td>\n",
       "      <td>Entire home/apt</td>\n",
       "      <td>225</td>\n",
       "      <td>1</td>\n",
       "      <td>45</td>\n",
       "      <td>5/21/2019</td>\n",
       "      <td>0.38</td>\n",
       "      <td>2</td>\n",
       "      <td>355</td>\n",
       "    </tr>\n",
       "    <tr>\n",
       "      <td>2</td>\n",
       "      <td>3647</td>\n",
       "      <td>THE VILLAGE OF HARLEM....NEW YORK !</td>\n",
       "      <td>4632</td>\n",
       "      <td>Elisabeth</td>\n",
       "      <td>Manhattan</td>\n",
       "      <td>Harlem</td>\n",
       "      <td>40.80902</td>\n",
       "      <td>-73.94190</td>\n",
       "      <td>Private room</td>\n",
       "      <td>150</td>\n",
       "      <td>3</td>\n",
       "      <td>0</td>\n",
       "      <td>NaN</td>\n",
       "      <td>NaN</td>\n",
       "      <td>1</td>\n",
       "      <td>365</td>\n",
       "    </tr>\n",
       "    <tr>\n",
       "      <td>3</td>\n",
       "      <td>3831</td>\n",
       "      <td>Cozy Entire Floor of Brownstone</td>\n",
       "      <td>4869</td>\n",
       "      <td>LisaRoxanne</td>\n",
       "      <td>Brooklyn</td>\n",
       "      <td>Clinton Hill</td>\n",
       "      <td>40.68514</td>\n",
       "      <td>-73.95976</td>\n",
       "      <td>Entire home/apt</td>\n",
       "      <td>89</td>\n",
       "      <td>1</td>\n",
       "      <td>270</td>\n",
       "      <td>7/5/2019</td>\n",
       "      <td>4.64</td>\n",
       "      <td>1</td>\n",
       "      <td>194</td>\n",
       "    </tr>\n",
       "    <tr>\n",
       "      <td>4</td>\n",
       "      <td>5022</td>\n",
       "      <td>Entire Apt: Spacious Studio/Loft by central park</td>\n",
       "      <td>7192</td>\n",
       "      <td>Laura</td>\n",
       "      <td>Manhattan</td>\n",
       "      <td>East Harlem</td>\n",
       "      <td>40.79851</td>\n",
       "      <td>-73.94399</td>\n",
       "      <td>Entire home/apt</td>\n",
       "      <td>80</td>\n",
       "      <td>10</td>\n",
       "      <td>9</td>\n",
       "      <td>11/19/2018</td>\n",
       "      <td>0.10</td>\n",
       "      <td>1</td>\n",
       "      <td>0</td>\n",
       "    </tr>\n",
       "  </tbody>\n",
       "</table>\n",
       "</div>"
      ],
      "text/plain": [
       "     id                                              name  host_id  \\\n",
       "0  2539                Clean & quiet apt home by the park     2787   \n",
       "1  2595                             Skylit Midtown Castle     2845   \n",
       "2  3647               THE VILLAGE OF HARLEM....NEW YORK !     4632   \n",
       "3  3831                   Cozy Entire Floor of Brownstone     4869   \n",
       "4  5022  Entire Apt: Spacious Studio/Loft by central park     7192   \n",
       "\n",
       "     host_name neighbourhood_group neighbourhood  latitude  longitude  \\\n",
       "0         John            Brooklyn    Kensington  40.64749  -73.97237   \n",
       "1     Jennifer           Manhattan       Midtown  40.75362  -73.98377   \n",
       "2    Elisabeth           Manhattan        Harlem  40.80902  -73.94190   \n",
       "3  LisaRoxanne            Brooklyn  Clinton Hill  40.68514  -73.95976   \n",
       "4        Laura           Manhattan   East Harlem  40.79851  -73.94399   \n",
       "\n",
       "         room_type  price  minimum_nights  number_of_reviews last_review  \\\n",
       "0     Private room    149               1                  9  10/19/2018   \n",
       "1  Entire home/apt    225               1                 45   5/21/2019   \n",
       "2     Private room    150               3                  0         NaN   \n",
       "3  Entire home/apt     89               1                270    7/5/2019   \n",
       "4  Entire home/apt     80              10                  9  11/19/2018   \n",
       "\n",
       "   reviews_per_month  calculated_host_listings_count  availability_365  \n",
       "0               0.21                               6               365  \n",
       "1               0.38                               2               355  \n",
       "2                NaN                               1               365  \n",
       "3               4.64                               1               194  \n",
       "4               0.10                               1                 0  "
      ]
     },
     "execution_count": 3,
     "metadata": {},
     "output_type": "execute_result"
    }
   ],
   "source": [
    "Ab_NYC_ML.head()"
   ]
  },
  {
   "cell_type": "code",
   "execution_count": 4,
   "metadata": {},
   "outputs": [
    {
     "name": "stdout",
     "output_type": "stream",
     "text": [
      "<class 'pandas.core.frame.DataFrame'>\n",
      "RangeIndex: 48895 entries, 0 to 48894\n",
      "Data columns (total 16 columns):\n",
      "id                                48895 non-null int64\n",
      "name                              48879 non-null object\n",
      "host_id                           48895 non-null int64\n",
      "host_name                         48874 non-null object\n",
      "neighbourhood_group               48895 non-null object\n",
      "neighbourhood                     48895 non-null object\n",
      "latitude                          48895 non-null float64\n",
      "longitude                         48895 non-null float64\n",
      "room_type                         48895 non-null object\n",
      "price                             48895 non-null int64\n",
      "minimum_nights                    48895 non-null int64\n",
      "number_of_reviews                 48895 non-null int64\n",
      "last_review                       38843 non-null object\n",
      "reviews_per_month                 38843 non-null float64\n",
      "calculated_host_listings_count    48895 non-null int64\n",
      "availability_365                  48895 non-null int64\n",
      "dtypes: float64(3), int64(7), object(6)\n",
      "memory usage: 6.0+ MB\n"
     ]
    }
   ],
   "source": [
    "Ab_NYC_ML.info()"
   ]
  },
  {
   "cell_type": "code",
   "execution_count": 5,
   "metadata": {},
   "outputs": [
    {
     "data": {
      "text/html": [
       "<div>\n",
       "<style scoped>\n",
       "    .dataframe tbody tr th:only-of-type {\n",
       "        vertical-align: middle;\n",
       "    }\n",
       "\n",
       "    .dataframe tbody tr th {\n",
       "        vertical-align: top;\n",
       "    }\n",
       "\n",
       "    .dataframe thead th {\n",
       "        text-align: right;\n",
       "    }\n",
       "</style>\n",
       "<table border=\"1\" class=\"dataframe\">\n",
       "  <thead>\n",
       "    <tr style=\"text-align: right;\">\n",
       "      <th></th>\n",
       "      <th>id</th>\n",
       "      <th>name</th>\n",
       "      <th>host_id</th>\n",
       "      <th>host_name</th>\n",
       "      <th>neighbourhood_group</th>\n",
       "      <th>neighbourhood</th>\n",
       "      <th>latitude</th>\n",
       "      <th>longitude</th>\n",
       "      <th>room_type</th>\n",
       "      <th>price</th>\n",
       "      <th>minimum_nights</th>\n",
       "      <th>number_of_reviews</th>\n",
       "      <th>last_review</th>\n",
       "      <th>reviews_per_month</th>\n",
       "      <th>calculated_host_listings_count</th>\n",
       "      <th>availability_365</th>\n",
       "    </tr>\n",
       "  </thead>\n",
       "  <tbody>\n",
       "    <tr>\n",
       "      <td>0</td>\n",
       "      <td>2539</td>\n",
       "      <td>Clean &amp; quiet apt home by the park</td>\n",
       "      <td>2787</td>\n",
       "      <td>John</td>\n",
       "      <td>Brooklyn</td>\n",
       "      <td>Kensington</td>\n",
       "      <td>40.64749</td>\n",
       "      <td>-73.97237</td>\n",
       "      <td>Private room</td>\n",
       "      <td>149</td>\n",
       "      <td>1</td>\n",
       "      <td>9</td>\n",
       "      <td>10/19/2018</td>\n",
       "      <td>0.21</td>\n",
       "      <td>6</td>\n",
       "      <td>365</td>\n",
       "    </tr>\n",
       "    <tr>\n",
       "      <td>1</td>\n",
       "      <td>2595</td>\n",
       "      <td>Skylit Midtown Castle</td>\n",
       "      <td>2845</td>\n",
       "      <td>Jennifer</td>\n",
       "      <td>Manhattan</td>\n",
       "      <td>Midtown</td>\n",
       "      <td>40.75362</td>\n",
       "      <td>-73.98377</td>\n",
       "      <td>Entire home/apt</td>\n",
       "      <td>225</td>\n",
       "      <td>1</td>\n",
       "      <td>45</td>\n",
       "      <td>5/21/2019</td>\n",
       "      <td>0.38</td>\n",
       "      <td>2</td>\n",
       "      <td>355</td>\n",
       "    </tr>\n",
       "    <tr>\n",
       "      <td>3</td>\n",
       "      <td>3831</td>\n",
       "      <td>Cozy Entire Floor of Brownstone</td>\n",
       "      <td>4869</td>\n",
       "      <td>LisaRoxanne</td>\n",
       "      <td>Brooklyn</td>\n",
       "      <td>Clinton Hill</td>\n",
       "      <td>40.68514</td>\n",
       "      <td>-73.95976</td>\n",
       "      <td>Entire home/apt</td>\n",
       "      <td>89</td>\n",
       "      <td>1</td>\n",
       "      <td>270</td>\n",
       "      <td>7/5/2019</td>\n",
       "      <td>4.64</td>\n",
       "      <td>1</td>\n",
       "      <td>194</td>\n",
       "    </tr>\n",
       "    <tr>\n",
       "      <td>4</td>\n",
       "      <td>5022</td>\n",
       "      <td>Entire Apt: Spacious Studio/Loft by central park</td>\n",
       "      <td>7192</td>\n",
       "      <td>Laura</td>\n",
       "      <td>Manhattan</td>\n",
       "      <td>East Harlem</td>\n",
       "      <td>40.79851</td>\n",
       "      <td>-73.94399</td>\n",
       "      <td>Entire home/apt</td>\n",
       "      <td>80</td>\n",
       "      <td>10</td>\n",
       "      <td>9</td>\n",
       "      <td>11/19/2018</td>\n",
       "      <td>0.10</td>\n",
       "      <td>1</td>\n",
       "      <td>0</td>\n",
       "    </tr>\n",
       "    <tr>\n",
       "      <td>5</td>\n",
       "      <td>5099</td>\n",
       "      <td>Large Cozy 1 BR Apartment In Midtown East</td>\n",
       "      <td>7322</td>\n",
       "      <td>Chris</td>\n",
       "      <td>Manhattan</td>\n",
       "      <td>Murray Hill</td>\n",
       "      <td>40.74767</td>\n",
       "      <td>-73.97500</td>\n",
       "      <td>Entire home/apt</td>\n",
       "      <td>200</td>\n",
       "      <td>3</td>\n",
       "      <td>74</td>\n",
       "      <td>6/22/2019</td>\n",
       "      <td>0.59</td>\n",
       "      <td>1</td>\n",
       "      <td>129</td>\n",
       "    </tr>\n",
       "    <tr>\n",
       "      <td>...</td>\n",
       "      <td>...</td>\n",
       "      <td>...</td>\n",
       "      <td>...</td>\n",
       "      <td>...</td>\n",
       "      <td>...</td>\n",
       "      <td>...</td>\n",
       "      <td>...</td>\n",
       "      <td>...</td>\n",
       "      <td>...</td>\n",
       "      <td>...</td>\n",
       "      <td>...</td>\n",
       "      <td>...</td>\n",
       "      <td>...</td>\n",
       "      <td>...</td>\n",
       "      <td>...</td>\n",
       "      <td>...</td>\n",
       "    </tr>\n",
       "    <tr>\n",
       "      <td>48782</td>\n",
       "      <td>36425863</td>\n",
       "      <td>Lovely Privet Bedroom with Privet Restroom</td>\n",
       "      <td>83554966</td>\n",
       "      <td>Rusaa</td>\n",
       "      <td>Manhattan</td>\n",
       "      <td>Upper East Side</td>\n",
       "      <td>40.78099</td>\n",
       "      <td>-73.95366</td>\n",
       "      <td>Private room</td>\n",
       "      <td>129</td>\n",
       "      <td>1</td>\n",
       "      <td>1</td>\n",
       "      <td>7/7/2019</td>\n",
       "      <td>1.00</td>\n",
       "      <td>1</td>\n",
       "      <td>147</td>\n",
       "    </tr>\n",
       "    <tr>\n",
       "      <td>48790</td>\n",
       "      <td>36427429</td>\n",
       "      <td>No.2 with queen size bed</td>\n",
       "      <td>257683179</td>\n",
       "      <td>H Ai</td>\n",
       "      <td>Queens</td>\n",
       "      <td>Flushing</td>\n",
       "      <td>40.75104</td>\n",
       "      <td>-73.81459</td>\n",
       "      <td>Private room</td>\n",
       "      <td>45</td>\n",
       "      <td>1</td>\n",
       "      <td>1</td>\n",
       "      <td>7/7/2019</td>\n",
       "      <td>1.00</td>\n",
       "      <td>6</td>\n",
       "      <td>339</td>\n",
       "    </tr>\n",
       "    <tr>\n",
       "      <td>48799</td>\n",
       "      <td>36438336</td>\n",
       "      <td>Seas The Moment</td>\n",
       "      <td>211644523</td>\n",
       "      <td>Ben</td>\n",
       "      <td>Staten Island</td>\n",
       "      <td>Great Kills</td>\n",
       "      <td>40.54179</td>\n",
       "      <td>-74.14275</td>\n",
       "      <td>Private room</td>\n",
       "      <td>235</td>\n",
       "      <td>1</td>\n",
       "      <td>1</td>\n",
       "      <td>7/7/2019</td>\n",
       "      <td>1.00</td>\n",
       "      <td>1</td>\n",
       "      <td>87</td>\n",
       "    </tr>\n",
       "    <tr>\n",
       "      <td>48805</td>\n",
       "      <td>36442252</td>\n",
       "      <td>1B-1B apartment near by Metro</td>\n",
       "      <td>273841667</td>\n",
       "      <td>Blaine</td>\n",
       "      <td>Bronx</td>\n",
       "      <td>Mott Haven</td>\n",
       "      <td>40.80787</td>\n",
       "      <td>-73.92400</td>\n",
       "      <td>Entire home/apt</td>\n",
       "      <td>100</td>\n",
       "      <td>1</td>\n",
       "      <td>2</td>\n",
       "      <td>7/7/2019</td>\n",
       "      <td>2.00</td>\n",
       "      <td>1</td>\n",
       "      <td>40</td>\n",
       "    </tr>\n",
       "    <tr>\n",
       "      <td>48852</td>\n",
       "      <td>36455809</td>\n",
       "      <td>Cozy Private Room in Bushwick, Brooklyn</td>\n",
       "      <td>74162901</td>\n",
       "      <td>Christine</td>\n",
       "      <td>Brooklyn</td>\n",
       "      <td>Bushwick</td>\n",
       "      <td>40.69805</td>\n",
       "      <td>-73.92801</td>\n",
       "      <td>Private room</td>\n",
       "      <td>30</td>\n",
       "      <td>1</td>\n",
       "      <td>1</td>\n",
       "      <td>7/8/2019</td>\n",
       "      <td>1.00</td>\n",
       "      <td>1</td>\n",
       "      <td>1</td>\n",
       "    </tr>\n",
       "  </tbody>\n",
       "</table>\n",
       "<p>38821 rows × 16 columns</p>\n",
       "</div>"
      ],
      "text/plain": [
       "             id                                              name    host_id  \\\n",
       "0          2539                Clean & quiet apt home by the park       2787   \n",
       "1          2595                             Skylit Midtown Castle       2845   \n",
       "3          3831                   Cozy Entire Floor of Brownstone       4869   \n",
       "4          5022  Entire Apt: Spacious Studio/Loft by central park       7192   \n",
       "5          5099         Large Cozy 1 BR Apartment In Midtown East       7322   \n",
       "...         ...                                               ...        ...   \n",
       "48782  36425863        Lovely Privet Bedroom with Privet Restroom   83554966   \n",
       "48790  36427429                          No.2 with queen size bed  257683179   \n",
       "48799  36438336                                   Seas The Moment  211644523   \n",
       "48805  36442252                     1B-1B apartment near by Metro  273841667   \n",
       "48852  36455809           Cozy Private Room in Bushwick, Brooklyn   74162901   \n",
       "\n",
       "         host_name neighbourhood_group    neighbourhood  latitude  longitude  \\\n",
       "0             John            Brooklyn       Kensington  40.64749  -73.97237   \n",
       "1         Jennifer           Manhattan          Midtown  40.75362  -73.98377   \n",
       "3      LisaRoxanne            Brooklyn     Clinton Hill  40.68514  -73.95976   \n",
       "4            Laura           Manhattan      East Harlem  40.79851  -73.94399   \n",
       "5            Chris           Manhattan      Murray Hill  40.74767  -73.97500   \n",
       "...            ...                 ...              ...       ...        ...   \n",
       "48782        Rusaa           Manhattan  Upper East Side  40.78099  -73.95366   \n",
       "48790         H Ai              Queens         Flushing  40.75104  -73.81459   \n",
       "48799          Ben       Staten Island      Great Kills  40.54179  -74.14275   \n",
       "48805       Blaine               Bronx       Mott Haven  40.80787  -73.92400   \n",
       "48852    Christine            Brooklyn         Bushwick  40.69805  -73.92801   \n",
       "\n",
       "             room_type  price  minimum_nights  number_of_reviews last_review  \\\n",
       "0         Private room    149               1                  9  10/19/2018   \n",
       "1      Entire home/apt    225               1                 45   5/21/2019   \n",
       "3      Entire home/apt     89               1                270    7/5/2019   \n",
       "4      Entire home/apt     80              10                  9  11/19/2018   \n",
       "5      Entire home/apt    200               3                 74   6/22/2019   \n",
       "...                ...    ...             ...                ...         ...   \n",
       "48782     Private room    129               1                  1    7/7/2019   \n",
       "48790     Private room     45               1                  1    7/7/2019   \n",
       "48799     Private room    235               1                  1    7/7/2019   \n",
       "48805  Entire home/apt    100               1                  2    7/7/2019   \n",
       "48852     Private room     30               1                  1    7/8/2019   \n",
       "\n",
       "       reviews_per_month  calculated_host_listings_count  availability_365  \n",
       "0                   0.21                               6               365  \n",
       "1                   0.38                               2               355  \n",
       "3                   4.64                               1               194  \n",
       "4                   0.10                               1                 0  \n",
       "5                   0.59                               1               129  \n",
       "...                  ...                             ...               ...  \n",
       "48782               1.00                               1               147  \n",
       "48790               1.00                               6               339  \n",
       "48799               1.00                               1                87  \n",
       "48805               2.00                               1                40  \n",
       "48852               1.00                               1                 1  \n",
       "\n",
       "[38821 rows x 16 columns]"
      ]
     },
     "execution_count": 5,
     "metadata": {},
     "output_type": "execute_result"
    }
   ],
   "source": [
    "Ab_NYC_ML.dropna()"
   ]
  },
  {
   "cell_type": "code",
   "execution_count": 10,
   "metadata": {},
   "outputs": [
    {
     "data": {
      "text/plain": [
       "host_id                           37457\n",
       "neighbourhood_group                   5\n",
       "latitude                          19048\n",
       "longitude                         14718\n",
       "room_type                             3\n",
       "price                               674\n",
       "minimum_nights                      109\n",
       "number_of_reviews                   394\n",
       "calculated_host_listings_count       47\n",
       "availability_365                    366\n",
       "dtype: int64"
      ]
     },
     "execution_count": 10,
     "metadata": {},
     "output_type": "execute_result"
    }
   ],
   "source": [
    "Ab_NYC_ML.nunique()"
   ]
  },
  {
   "cell_type": "code",
   "execution_count": 9,
   "metadata": {},
   "outputs": [
    {
     "data": {
      "text/plain": [
       "host_id                           0\n",
       "neighbourhood_group               0\n",
       "latitude                          0\n",
       "longitude                         0\n",
       "room_type                         0\n",
       "price                             0\n",
       "minimum_nights                    0\n",
       "number_of_reviews                 0\n",
       "calculated_host_listings_count    0\n",
       "availability_365                  0\n",
       "dtype: int64"
      ]
     },
     "execution_count": 9,
     "metadata": {},
     "output_type": "execute_result"
    }
   ],
   "source": [
    "Ab_NYC_ML.isnull().sum()"
   ]
  },
  {
   "cell_type": "code",
   "execution_count": 8,
   "metadata": {},
   "outputs": [],
   "source": [
    "Ab_NYC_ML=Ab_NYC_ML.drop(labels=['reviews_per_month','id','name','host_name','neighbourhood','last_review'], axis=1)"
   ]
  },
  {
   "cell_type": "code",
   "execution_count": 54,
   "metadata": {},
   "outputs": [
    {
     "data": {
      "text/plain": [
       "array(['Brooklyn', 'Manhattan', 'Queens', 'Staten Island', 'Bronx'],\n",
       "      dtype=object)"
      ]
     },
     "execution_count": 54,
     "metadata": {},
     "output_type": "execute_result"
    }
   ],
   "source": [
    "Ab_NYC_ML['neighbourhood_group'].unique()"
   ]
  },
  {
   "cell_type": "code",
   "execution_count": 11,
   "metadata": {},
   "outputs": [],
   "source": [
    "Ab_NYC_ML=pd.get_dummies(Ab_NYC_ML)"
   ]
  },
  {
   "cell_type": "code",
   "execution_count": 12,
   "metadata": {},
   "outputs": [
    {
     "name": "stdout",
     "output_type": "stream",
     "text": [
      "<class 'pandas.core.frame.DataFrame'>\n",
      "RangeIndex: 48895 entries, 0 to 48894\n",
      "Data columns (total 16 columns):\n",
      "host_id                              48895 non-null int64\n",
      "latitude                             48895 non-null float64\n",
      "longitude                            48895 non-null float64\n",
      "price                                48895 non-null int64\n",
      "minimum_nights                       48895 non-null int64\n",
      "number_of_reviews                    48895 non-null int64\n",
      "calculated_host_listings_count       48895 non-null int64\n",
      "availability_365                     48895 non-null int64\n",
      "neighbourhood_group_Bronx            48895 non-null uint8\n",
      "neighbourhood_group_Brooklyn         48895 non-null uint8\n",
      "neighbourhood_group_Manhattan        48895 non-null uint8\n",
      "neighbourhood_group_Queens           48895 non-null uint8\n",
      "neighbourhood_group_Staten Island    48895 non-null uint8\n",
      "room_type_Entire home/apt            48895 non-null uint8\n",
      "room_type_Private room               48895 non-null uint8\n",
      "room_type_Shared room                48895 non-null uint8\n",
      "dtypes: float64(2), int64(6), uint8(8)\n",
      "memory usage: 3.4 MB\n"
     ]
    }
   ],
   "source": [
    "Ab_NYC_ML.info()"
   ]
  },
  {
   "cell_type": "code",
   "execution_count": 13,
   "metadata": {},
   "outputs": [],
   "source": [
    "X_model=Ab_NYC_ML.values"
   ]
  },
  {
   "cell_type": "code",
   "execution_count": 14,
   "metadata": {},
   "outputs": [
    {
     "data": {
      "text/plain": [
       "array([[ 2.787000e+03,  4.064749e+01, -7.397237e+01,  1.490000e+02,\n",
       "         1.000000e+00,  9.000000e+00,  6.000000e+00,  3.650000e+02,\n",
       "         0.000000e+00,  1.000000e+00,  0.000000e+00,  0.000000e+00,\n",
       "         0.000000e+00,  0.000000e+00,  1.000000e+00,  0.000000e+00],\n",
       "       [ 2.845000e+03,  4.075362e+01, -7.398377e+01,  2.250000e+02,\n",
       "         1.000000e+00,  4.500000e+01,  2.000000e+00,  3.550000e+02,\n",
       "         0.000000e+00,  0.000000e+00,  1.000000e+00,  0.000000e+00,\n",
       "         0.000000e+00,  1.000000e+00,  0.000000e+00,  0.000000e+00],\n",
       "       [ 4.632000e+03,  4.080902e+01, -7.394190e+01,  1.500000e+02,\n",
       "         3.000000e+00,  0.000000e+00,  1.000000e+00,  3.650000e+02,\n",
       "         0.000000e+00,  0.000000e+00,  1.000000e+00,  0.000000e+00,\n",
       "         0.000000e+00,  0.000000e+00,  1.000000e+00,  0.000000e+00],\n",
       "       [ 4.869000e+03,  4.068514e+01, -7.395976e+01,  8.900000e+01,\n",
       "         1.000000e+00,  2.700000e+02,  1.000000e+00,  1.940000e+02,\n",
       "         0.000000e+00,  1.000000e+00,  0.000000e+00,  0.000000e+00,\n",
       "         0.000000e+00,  1.000000e+00,  0.000000e+00,  0.000000e+00],\n",
       "       [ 7.192000e+03,  4.079851e+01, -7.394399e+01,  8.000000e+01,\n",
       "         1.000000e+01,  9.000000e+00,  1.000000e+00,  0.000000e+00,\n",
       "         0.000000e+00,  0.000000e+00,  1.000000e+00,  0.000000e+00,\n",
       "         0.000000e+00,  1.000000e+00,  0.000000e+00,  0.000000e+00],\n",
       "       [ 7.322000e+03,  4.074767e+01, -7.397500e+01,  2.000000e+02,\n",
       "         3.000000e+00,  7.400000e+01,  1.000000e+00,  1.290000e+02,\n",
       "         0.000000e+00,  0.000000e+00,  1.000000e+00,  0.000000e+00,\n",
       "         0.000000e+00,  1.000000e+00,  0.000000e+00,  0.000000e+00],\n",
       "       [ 7.356000e+03,  4.068688e+01, -7.395596e+01,  6.000000e+01,\n",
       "         4.500000e+01,  4.900000e+01,  1.000000e+00,  0.000000e+00,\n",
       "         0.000000e+00,  1.000000e+00,  0.000000e+00,  0.000000e+00,\n",
       "         0.000000e+00,  0.000000e+00,  1.000000e+00,  0.000000e+00],\n",
       "       [ 8.967000e+03,  4.076489e+01, -7.398493e+01,  7.900000e+01,\n",
       "         2.000000e+00,  4.300000e+02,  1.000000e+00,  2.200000e+02,\n",
       "         0.000000e+00,  0.000000e+00,  1.000000e+00,  0.000000e+00,\n",
       "         0.000000e+00,  0.000000e+00,  1.000000e+00,  0.000000e+00],\n",
       "       [ 7.490000e+03,  4.080178e+01, -7.396723e+01,  7.900000e+01,\n",
       "         2.000000e+00,  1.180000e+02,  1.000000e+00,  0.000000e+00,\n",
       "         0.000000e+00,  0.000000e+00,  1.000000e+00,  0.000000e+00,\n",
       "         0.000000e+00,  0.000000e+00,  1.000000e+00,  0.000000e+00],\n",
       "       [ 7.549000e+03,  4.071344e+01, -7.399037e+01,  1.500000e+02,\n",
       "         1.000000e+00,  1.600000e+02,  4.000000e+00,  1.880000e+02,\n",
       "         0.000000e+00,  0.000000e+00,  1.000000e+00,  0.000000e+00,\n",
       "         0.000000e+00,  1.000000e+00,  0.000000e+00,  0.000000e+00],\n",
       "       [ 7.702000e+03,  4.080316e+01, -7.396545e+01,  1.350000e+02,\n",
       "         5.000000e+00,  5.300000e+01,  1.000000e+00,  6.000000e+00,\n",
       "         0.000000e+00,  0.000000e+00,  1.000000e+00,  0.000000e+00,\n",
       "         0.000000e+00,  1.000000e+00,  0.000000e+00,  0.000000e+00],\n",
       "       [ 7.989000e+03,  4.076076e+01, -7.398867e+01,  8.500000e+01,\n",
       "         2.000000e+00,  1.880000e+02,  1.000000e+00,  3.900000e+01,\n",
       "         0.000000e+00,  0.000000e+00,  1.000000e+00,  0.000000e+00,\n",
       "         0.000000e+00,  0.000000e+00,  1.000000e+00,  0.000000e+00],\n",
       "       [ 9.744000e+03,  4.066829e+01, -7.398779e+01,  8.900000e+01,\n",
       "         4.000000e+00,  1.670000e+02,  3.000000e+00,  3.140000e+02,\n",
       "         0.000000e+00,  1.000000e+00,  0.000000e+00,  0.000000e+00,\n",
       "         0.000000e+00,  0.000000e+00,  1.000000e+00,  0.000000e+00],\n",
       "       [ 1.152800e+04,  4.079826e+01, -7.396113e+01,  8.500000e+01,\n",
       "         2.000000e+00,  1.130000e+02,  1.000000e+00,  3.330000e+02,\n",
       "         0.000000e+00,  0.000000e+00,  1.000000e+00,  0.000000e+00,\n",
       "         0.000000e+00,  0.000000e+00,  1.000000e+00,  0.000000e+00],\n",
       "       [ 1.197500e+04,  4.073530e+01, -7.400525e+01,  1.200000e+02,\n",
       "         9.000000e+01,  2.700000e+01,  1.000000e+00,  0.000000e+00,\n",
       "         0.000000e+00,  0.000000e+00,  1.000000e+00,  0.000000e+00,\n",
       "         0.000000e+00,  1.000000e+00,  0.000000e+00,  0.000000e+00]])"
      ]
     },
     "execution_count": 14,
     "metadata": {},
     "output_type": "execute_result"
    }
   ],
   "source": [
    "X_model[0:15]"
   ]
  },
  {
   "cell_type": "code",
   "execution_count": 15,
   "metadata": {},
   "outputs": [
    {
     "data": {
      "image/png": "[encoded data removed]",
      "text/plain": [
       "<Figure size 432x288 with 1 Axes>"
      ]
     },
     "metadata": {
      "needs_background": "light"
     },
     "output_type": "display_data"
    }
   ],
   "source": [
    "from sklearn.cluster import KMeans\n",
    "Interiavalue=[]\n",
    "for i in range(1,20):\n",
    "    km=KMeans( n_clusters=i,n_init=10,max_iter=300,tol=1e-05)\n",
    "    km.fit(X_model)\n",
    "    Interiavalue.append(km.inertia_)\n",
    "    \n",
    "plt.plot(range(1,20),Interiavalue,marker='o')\n",
    "plt.xlabel('No of clusters')\n",
    "plt.ylabel('Inertia')\n",
    "plt.tight_layout()\n",
    "plt.show()"
   ]
  },
  {
   "cell_type": "code",
   "execution_count": 16,
   "metadata": {},
   "outputs": [
    {
     "name": "stdout",
     "output_type": "stream",
     "text": [
      "The inertia is 2.453341799076823e+19\n",
      "[0 0 0 ... 0 0 1]\n"
     ]
    }
   ],
   "source": [
    "km=KMeans(n_clusters=3,n_init=10,max_iter=300,tol=1e-05)\n",
    "predictedclusters=km.fit_predict(X_model)\n",
    "print( \"The inertia is\",km.inertia_)\n",
    "print(km.labels_)\n",
    "    "
   ]
  },
  {
   "cell_type": "code",
   "execution_count": 17,
   "metadata": {},
   "outputs": [],
   "source": [
    "Ab_NYC_ML['predictedclusters']=predictedclusters\n"
   ]
  },
  {
   "cell_type": "code",
   "execution_count": 18,
   "metadata": {},
   "outputs": [
    {
     "data": {
      "text/html": [
       "<div>\n",
       "<style scoped>\n",
       "    .dataframe tbody tr th:only-of-type {\n",
       "        vertical-align: middle;\n",
       "    }\n",
       "\n",
       "    .dataframe tbody tr th {\n",
       "        vertical-align: top;\n",
       "    }\n",
       "\n",
       "    .dataframe thead th {\n",
       "        text-align: right;\n",
       "    }\n",
       "</style>\n",
       "<table border=\"1\" class=\"dataframe\">\n",
       "  <thead>\n",
       "    <tr style=\"text-align: right;\">\n",
       "      <th></th>\n",
       "      <th>host_id</th>\n",
       "      <th>latitude</th>\n",
       "      <th>longitude</th>\n",
       "      <th>price</th>\n",
       "      <th>minimum_nights</th>\n",
       "      <th>number_of_reviews</th>\n",
       "      <th>calculated_host_listings_count</th>\n",
       "      <th>availability_365</th>\n",
       "      <th>neighbourhood_group_Bronx</th>\n",
       "      <th>neighbourhood_group_Brooklyn</th>\n",
       "      <th>neighbourhood_group_Manhattan</th>\n",
       "      <th>neighbourhood_group_Queens</th>\n",
       "      <th>neighbourhood_group_Staten Island</th>\n",
       "      <th>room_type_Entire home/apt</th>\n",
       "      <th>room_type_Private room</th>\n",
       "      <th>room_type_Shared room</th>\n",
       "      <th>predictedclusters</th>\n",
       "    </tr>\n",
       "  </thead>\n",
       "  <tbody>\n",
       "    <tr>\n",
       "      <td>0</td>\n",
       "      <td>2787</td>\n",
       "      <td>40.64749</td>\n",
       "      <td>-73.97237</td>\n",
       "      <td>149</td>\n",
       "      <td>1</td>\n",
       "      <td>9</td>\n",
       "      <td>6</td>\n",
       "      <td>365</td>\n",
       "      <td>0</td>\n",
       "      <td>1</td>\n",
       "      <td>0</td>\n",
       "      <td>0</td>\n",
       "      <td>0</td>\n",
       "      <td>0</td>\n",
       "      <td>1</td>\n",
       "      <td>0</td>\n",
       "      <td>0</td>\n",
       "    </tr>\n",
       "    <tr>\n",
       "      <td>1</td>\n",
       "      <td>2845</td>\n",
       "      <td>40.75362</td>\n",
       "      <td>-73.98377</td>\n",
       "      <td>225</td>\n",
       "      <td>1</td>\n",
       "      <td>45</td>\n",
       "      <td>2</td>\n",
       "      <td>355</td>\n",
       "      <td>0</td>\n",
       "      <td>0</td>\n",
       "      <td>1</td>\n",
       "      <td>0</td>\n",
       "      <td>0</td>\n",
       "      <td>1</td>\n",
       "      <td>0</td>\n",
       "      <td>0</td>\n",
       "      <td>0</td>\n",
       "    </tr>\n",
       "    <tr>\n",
       "      <td>2</td>\n",
       "      <td>4632</td>\n",
       "      <td>40.80902</td>\n",
       "      <td>-73.94190</td>\n",
       "      <td>150</td>\n",
       "      <td>3</td>\n",
       "      <td>0</td>\n",
       "      <td>1</td>\n",
       "      <td>365</td>\n",
       "      <td>0</td>\n",
       "      <td>0</td>\n",
       "      <td>1</td>\n",
       "      <td>0</td>\n",
       "      <td>0</td>\n",
       "      <td>0</td>\n",
       "      <td>1</td>\n",
       "      <td>0</td>\n",
       "      <td>0</td>\n",
       "    </tr>\n",
       "    <tr>\n",
       "      <td>3</td>\n",
       "      <td>4869</td>\n",
       "      <td>40.68514</td>\n",
       "      <td>-73.95976</td>\n",
       "      <td>89</td>\n",
       "      <td>1</td>\n",
       "      <td>270</td>\n",
       "      <td>1</td>\n",
       "      <td>194</td>\n",
       "      <td>0</td>\n",
       "      <td>1</td>\n",
       "      <td>0</td>\n",
       "      <td>0</td>\n",
       "      <td>0</td>\n",
       "      <td>1</td>\n",
       "      <td>0</td>\n",
       "      <td>0</td>\n",
       "      <td>0</td>\n",
       "    </tr>\n",
       "    <tr>\n",
       "      <td>4</td>\n",
       "      <td>7192</td>\n",
       "      <td>40.79851</td>\n",
       "      <td>-73.94399</td>\n",
       "      <td>80</td>\n",
       "      <td>10</td>\n",
       "      <td>9</td>\n",
       "      <td>1</td>\n",
       "      <td>0</td>\n",
       "      <td>0</td>\n",
       "      <td>0</td>\n",
       "      <td>1</td>\n",
       "      <td>0</td>\n",
       "      <td>0</td>\n",
       "      <td>1</td>\n",
       "      <td>0</td>\n",
       "      <td>0</td>\n",
       "      <td>0</td>\n",
       "    </tr>\n",
       "  </tbody>\n",
       "</table>\n",
       "</div>"
      ],
      "text/plain": [
       "   host_id  latitude  longitude  price  minimum_nights  number_of_reviews  \\\n",
       "0     2787  40.64749  -73.97237    149               1                  9   \n",
       "1     2845  40.75362  -73.98377    225               1                 45   \n",
       "2     4632  40.80902  -73.94190    150               3                  0   \n",
       "3     4869  40.68514  -73.95976     89               1                270   \n",
       "4     7192  40.79851  -73.94399     80              10                  9   \n",
       "\n",
       "   calculated_host_listings_count  availability_365  \\\n",
       "0                               6               365   \n",
       "1                               2               355   \n",
       "2                               1               365   \n",
       "3                               1               194   \n",
       "4                               1                 0   \n",
       "\n",
       "   neighbourhood_group_Bronx  neighbourhood_group_Brooklyn  \\\n",
       "0                          0                             1   \n",
       "1                          0                             0   \n",
       "2                          0                             0   \n",
       "3                          0                             1   \n",
       "4                          0                             0   \n",
       "\n",
       "   neighbourhood_group_Manhattan  neighbourhood_group_Queens  \\\n",
       "0                              0                           0   \n",
       "1                              1                           0   \n",
       "2                              1                           0   \n",
       "3                              0                           0   \n",
       "4                              1                           0   \n",
       "\n",
       "   neighbourhood_group_Staten Island  room_type_Entire home/apt  \\\n",
       "0                                  0                          0   \n",
       "1                                  0                          1   \n",
       "2                                  0                          0   \n",
       "3                                  0                          1   \n",
       "4                                  0                          1   \n",
       "\n",
       "   room_type_Private room  room_type_Shared room  predictedclusters  \n",
       "0                       1                      0                  0  \n",
       "1                       0                      0                  0  \n",
       "2                       1                      0                  0  \n",
       "3                       0                      0                  0  \n",
       "4                       0                      0                  0  "
      ]
     },
     "execution_count": 18,
     "metadata": {},
     "output_type": "execute_result"
    }
   ],
   "source": [
    "Ab_NYC_ML.head()"
   ]
  },
  {
   "cell_type": "code",
   "execution_count": 19,
   "metadata": {},
   "outputs": [
    {
     "data": {
      "text/plain": [
       "host_id                              37457\n",
       "latitude                             19048\n",
       "longitude                            14718\n",
       "price                                  674\n",
       "minimum_nights                         109\n",
       "number_of_reviews                      394\n",
       "calculated_host_listings_count          47\n",
       "availability_365                       366\n",
       "neighbourhood_group_Bronx                2\n",
       "neighbourhood_group_Brooklyn             2\n",
       "neighbourhood_group_Manhattan            2\n",
       "neighbourhood_group_Queens               2\n",
       "neighbourhood_group_Staten Island        2\n",
       "room_type_Entire home/apt                2\n",
       "room_type_Private room                   2\n",
       "room_type_Shared room                    2\n",
       "predictedclusters                        3\n",
       "dtype: int64"
      ]
     },
     "execution_count": 19,
     "metadata": {},
     "output_type": "execute_result"
    }
   ],
   "source": [
    "Ab_NYC_ML.nunique()"
   ]
  },
  {
   "cell_type": "code",
   "execution_count": null,
   "metadata": {},
   "outputs": [],
   "source": [
    "## Hierarchical Clustering\n",
    "from sklearn.cluster import AgglomerativeClustering\n",
    "\n",
    "#hc=AgglomerativeClustering(n_clusters=3,affinity='euclidean', linkage='ward')\n",
    "#Hierarchicalclusterid=hc.fit_predict(X_model)\n",
    "Ab_NYC_ML['Hierarchicalclusterid']=Hierarchicalclusterid\n",
    "print(Ab_NYC_ML['Hierarchicalclusterid'].head(10))\n",
    "print(Ab_NYC_ML.head(10))\n",
    "plt.scatter(x=Ab_NYC_ML['number_of_reviews'] , y=Ab_NYC_ML['price'],c=Ab_NYC_ML['DBpredictedclusterid'])\n",
    "\n"
   ]
  },
  {
   "cell_type": "code",
   "execution_count": 41,
   "metadata": {},
   "outputs": [
    {
     "data": {
      "text/plain": [
       "0   -1\n",
       "1   -1\n",
       "2   -1\n",
       "3   -1\n",
       "4   -1\n",
       "5   -1\n",
       "6   -1\n",
       "7   -1\n",
       "8   -1\n",
       "9   -1\n",
       "Name: DBpredictedclusterid, dtype: int64"
      ]
     },
     "execution_count": 41,
     "metadata": {},
     "output_type": "execute_result"
    }
   ],
   "source": [
    "## DBSCAN\n",
    "\n",
    "from sklearn.cluster import DBSCAN\n",
    "\n",
    "DB= DBSCAN(eps=1,min_samples=10)\n",
    "DBpredictedclusterid=DB.fit_predict(X_model)\n",
    "Ab_NYC_ML['DBpredictedclusterid']=DBpredictedclusterid\n",
    "Ab_NYC_ML['DBpredictedclusterid'].head(10)\n",
    "\n",
    "\n",
    "\n",
    "\n"
   ]
  },
  {
   "cell_type": "code",
   "execution_count": 47,
   "metadata": {},
   "outputs": [
    {
     "data": {
      "text/plain": [
       "<matplotlib.collections.PathCollection at 0x1f11721e2c8>"
      ]
     },
     "execution_count": 47,
     "metadata": {},
     "output_type": "execute_result"
    },
    {
     "data": {
      "image/png": "[encoded data removed]",
      "text/plain": [
       "<Figure size 432x288 with 1 Axes>"
      ]
     },
     "metadata": {
      "needs_background": "light"
     },
     "output_type": "display_data"
    }
   ],
   "source": [
    "plt.scatter(x=Ab_NYC_ML['number_of_reviews'] , y=Ab_NYC_ML['price'],c=Ab_NYC_ML['DBpredictedclusterid'])"
   ]
  },
  {
   "cell_type": "code",
   "execution_count": 42,
   "metadata": {},
   "outputs": [
    {
     "data": {
      "text/plain": [
       "host_id                              37457\n",
       "latitude                             19048\n",
       "longitude                            14718\n",
       "price                                  674\n",
       "minimum_nights                         109\n",
       "number_of_reviews                      394\n",
       "calculated_host_listings_count          47\n",
       "availability_365                       366\n",
       "neighbourhood_group_Bronx                2\n",
       "neighbourhood_group_Brooklyn             2\n",
       "neighbourhood_group_Manhattan            2\n",
       "neighbourhood_group_Queens               2\n",
       "neighbourhood_group_Staten Island        2\n",
       "room_type_Entire home/apt                2\n",
       "room_type_Private room                   2\n",
       "room_type_Shared room                    2\n",
       "predictedclusters                        3\n",
       "DBpredictedclusterid                     2\n",
       "dtype: int64"
      ]
     },
     "execution_count": 42,
     "metadata": {},
     "output_type": "execute_result"
    }
   ],
   "source": [
    "Ab_NYC_ML.nunique()"
   ]
  },
  {
   "cell_type": "code",
   "execution_count": 43,
   "metadata": {},
   "outputs": [
    {
     "data": {
      "text/plain": [
       "array([-1,  0], dtype=int64)"
      ]
     },
     "execution_count": 43,
     "metadata": {},
     "output_type": "execute_result"
    }
   ],
   "source": [
    "Ab_NYC_ML['DBpredictedclusterid'].unique()"
   ]
  },
  {
   "cell_type": "code",
   "execution_count": 54,
   "metadata": {},
   "outputs": [
    {
     "data": {
      "text/plain": [
       "(48895, 16)"
      ]
     },
     "execution_count": 54,
     "metadata": {},
     "output_type": "execute_result"
    }
   ],
   "source": [
    "X_model.shape"
   ]
  },
  {
   "cell_type": "code",
   "execution_count": 87,
   "metadata": {},
   "outputs": [
    {
     "name": "stdout",
     "output_type": "stream",
     "text": [
      "[6.17968414e+15 5.78190800e+04 1.66066900e+04]\n"
     ]
    }
   ],
   "source": [
    "## Spectral clustering and PCA\n",
    "from sklearn.cluster import SpectralClustering \n",
    "from sklearn.decomposition import PCA\n",
    "\n",
    "pca=PCA( n_components=3,svd_solver='full')\n",
    "X_reduced=pca.fit_transform(X_model)\n",
    "print(np.round(pca.explained_variance_,2))\n",
    "Cumvariance=np.cumsum(np.round(pca.explained_variance_, decimals=2)*100)\n",
    "\n",
    "X_principal=pd.DataFrame(X_reduced, columns=['PC1','PC2','PC3'])\n"
   ]
  },
  {
   "cell_type": "code",
   "execution_count": 88,
   "metadata": {},
   "outputs": [
    {
     "name": "stdout",
     "output_type": "stream",
     "text": [
      "[6.17968414e+17 6.17968414e+17 6.17968414e+17]\n"
     ]
    }
   ],
   "source": [
    "print(Cumvariance)"
   ]
  },
  {
   "cell_type": "code",
   "execution_count": 85,
   "metadata": {},
   "outputs": [
    {
     "data": {
      "text/plain": [
       "Text(0, 0.5, '% Variance explained')"
      ]
     },
     "execution_count": 85,
     "metadata": {},
     "output_type": "execute_result"
    },
    {
     "data": {
      "image/png": "[encoded data removed]",
      "text/plain": [
       "<Figure size 432x288 with 1 Axes>"
      ]
     },
     "metadata": {
      "needs_background": "light"
     },
     "output_type": "display_data"
    }
   ],
   "source": [
    "plt.plot(range(1,4),Cumvariance )\n",
    "plt.xlabel('Number of components')\n",
    "plt.ylabel('% Variance explained')"
   ]
  },
  {
   "cell_type": "code",
   "execution_count": 89,
   "metadata": {},
   "outputs": [
    {
     "data": {
      "text/html": [
       "<div>\n",
       "<style scoped>\n",
       "    .dataframe tbody tr th:only-of-type {\n",
       "        vertical-align: middle;\n",
       "    }\n",
       "\n",
       "    .dataframe tbody tr th {\n",
       "        vertical-align: top;\n",
       "    }\n",
       "\n",
       "    .dataframe thead th {\n",
       "        text-align: right;\n",
       "    }\n",
       "</style>\n",
       "<table border=\"1\" class=\"dataframe\">\n",
       "  <thead>\n",
       "    <tr style=\"text-align: right;\">\n",
       "      <th></th>\n",
       "      <th>PC1</th>\n",
       "      <th>PC2</th>\n",
       "      <th>PC3</th>\n",
       "    </tr>\n",
       "  </thead>\n",
       "  <tbody>\n",
       "    <tr>\n",
       "      <td>0</td>\n",
       "      <td>-6.761722e+07</td>\n",
       "      <td>16.178090</td>\n",
       "      <td>-271.856189</td>\n",
       "    </tr>\n",
       "    <tr>\n",
       "      <td>1</td>\n",
       "      <td>-6.761717e+07</td>\n",
       "      <td>91.128861</td>\n",
       "      <td>-260.090036</td>\n",
       "    </tr>\n",
       "    <tr>\n",
       "      <td>2</td>\n",
       "      <td>-6.761538e+07</td>\n",
       "      <td>17.209519</td>\n",
       "      <td>-270.852073</td>\n",
       "    </tr>\n",
       "    <tr>\n",
       "      <td>3</td>\n",
       "      <td>-6.761514e+07</td>\n",
       "      <td>-56.013510</td>\n",
       "      <td>-126.558757</td>\n",
       "    </tr>\n",
       "    <tr>\n",
       "      <td>4</td>\n",
       "      <td>-6.761282e+07</td>\n",
       "      <td>-74.690876</td>\n",
       "      <td>86.597357</td>\n",
       "    </tr>\n",
       "  </tbody>\n",
       "</table>\n",
       "</div>"
      ],
      "text/plain": [
       "            PC1        PC2         PC3\n",
       "0 -6.761722e+07  16.178090 -271.856189\n",
       "1 -6.761717e+07  91.128861 -260.090036\n",
       "2 -6.761538e+07  17.209519 -270.852073\n",
       "3 -6.761514e+07 -56.013510 -126.558757\n",
       "4 -6.761282e+07 -74.690876   86.597357"
      ]
     },
     "execution_count": 89,
     "metadata": {},
     "output_type": "execute_result"
    }
   ],
   "source": [
    "X_principal.head()"
   ]
  },
  {
   "cell_type": "code",
   "execution_count": 90,
   "metadata": {},
   "outputs": [],
   "source": [
    "Spl=SpectralClustering(n_clusters=3, affinity='rbf')\n",
    "spectralpredictedid=Spl.fit_predict(X_principal)\n",
    "Ab_NYC_ML['spectralpredictedid']=spectralpredictedid\n",
    "   \n",
    "    "
   ]
  },
  {
   "cell_type": "code",
   "execution_count": null,
   "metadata": {},
   "outputs": [],
   "source": []
  }
 ],
 "metadata": {
  "kernelspec": {
   "display_name": "Python 3",
   "language": "python",
   "name": "python3"
  },
  "language_info": {
   "codemirror_mode": {
    "name": "ipython",
    "version": 3
   },
   "file_extension": ".py",
   "mimetype": "text/x-python",
   "name": "python",
   "nbconvert_exporter": "python",
   "pygments_lexer": "ipython3",
   "version": "3.7.4"
  }
 },
 "nbformat": 4,
 "nbformat_minor": 2
}
